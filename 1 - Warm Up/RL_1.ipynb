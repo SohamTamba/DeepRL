{
  "nbformat": 4,
  "nbformat_minor": 0,
  "metadata": {
    "colab": {
      "name": "RL_1.ipynb",
      "provenance": [],
      "collapsed_sections": []
    },
    "kernelspec": {
      "name": "python3",
      "display_name": "Python 3"
    },
    "accelerator": "GPU"
  },
  "cells": [
    {
      "cell_type": "code",
      "metadata": {
        "id": "tGXjM0A-XAe7"
      },
      "source": [
        "from google.colab import drive\n",
        "drive.mount('/content/drive')"
      ],
      "execution_count": null,
      "outputs": []
    },
    {
      "cell_type": "code",
      "metadata": {
        "id": "XYFn7d8kXBaX",
        "outputId": "c25f5c05-7a2c-4a85-d8aa-6f6375d247f7",
        "colab": {
          "base_uri": "https://localhost:8080/",
          "height": 35
        }
      },
      "source": [
        "%cd drive/My\\ Drive/Deep\\ RL"
      ],
      "execution_count": null,
      "outputs": [
        {
          "output_type": "stream",
          "text": [
            "/content/drive/My Drive/Deep RL\n"
          ],
          "name": "stdout"
        }
      ]
    },
    {
      "cell_type": "markdown",
      "metadata": {
        "id": "DOeuJMzByCCN"
      },
      "source": [
        "# Choice of features and Number of Layers\n",
        "\n",
        "In the data exploration section, it has been found that there is a huge correlation between the first principal component direction and the annotations. Since the value of feature along a principal component is a linear combination of its features, a two layer neural network should do a decent job a seperating the chunk of blue points on the left hand side from the pink points on the right hand side. Hence, all of these features will be used.\n",
        "\n",
        "Obviously, we are not using sample code number as a feature choice because it is completely arbitary and has not correlation with the annotations."
      ]
    },
    {
      "cell_type": "markdown",
      "metadata": {
        "id": "G0wKjGShyOZM"
      },
      "source": [
        "# Prevent Overfitting\n",
        "\n",
        "Since we have little data, regularisation is important. I plan on using the following techniques:\n",
        "1. Drop Out\n",
        "2. Weight Decay\n",
        "3. Small batch size (During training)\n",
        "4. Momentum with SGD\n",
        "5. Early Stopping\n",
        "\n",
        "Since I do not have professional knowledge on cancer detection, I will not attmept to augment the data."
      ]
    },
    {
      "cell_type": "code",
      "metadata": {
        "id": "T9mlxSq_XZGT"
      },
      "source": [
        "import torch\n",
        "import torch.nn as nn\n",
        "import numpy as np\n",
        "import pandas as pd\n",
        "import matplotlib.pyplot as plt\n",
        "import torch.optim as optim\n",
        "import torch.nn.functional as F\n",
        "\n",
        "%matplotlib inline"
      ],
      "execution_count": null,
      "outputs": []
    },
    {
      "cell_type": "markdown",
      "metadata": {
        "id": "983Iss8ljllb"
      },
      "source": [
        "# Read Input"
      ]
    },
    {
      "cell_type": "code",
      "metadata": {
        "id": "s5r9kd7SXrJQ",
        "outputId": "627c4c0c-99e3-40d3-940b-6fbb39164a4b",
        "colab": {
          "base_uri": "https://localhost:8080/",
          "height": 260
        }
      },
      "source": [
        "f_name = 'breast-cancer-wisconsin.data'\n",
        "df = pd.read_csv(f_name, header=None)\n",
        "df = df.apply(pd.to_numeric, errors='coerce')\n",
        "print(df)"
      ],
      "execution_count": null,
      "outputs": [
        {
          "output_type": "stream",
          "text": [
            "          0   1   2   3   4   5     6   7   8   9   10\n",
            "0    1000025   5   1   1   1   2   1.0   3   1   1   2\n",
            "1    1002945   5   4   4   5   7  10.0   3   2   1   2\n",
            "2    1015425   3   1   1   1   2   2.0   3   1   1   2\n",
            "3    1016277   6   8   8   1   3   4.0   3   7   1   2\n",
            "4    1017023   4   1   1   3   2   1.0   3   1   1   2\n",
            "..       ...  ..  ..  ..  ..  ..   ...  ..  ..  ..  ..\n",
            "694   776715   3   1   1   1   3   2.0   1   1   1   2\n",
            "695   841769   2   1   1   1   2   1.0   1   1   1   2\n",
            "696   888820   5  10  10   3   7   3.0   8  10   2   4\n",
            "697   897471   4   8   6   4   3   4.0  10   6   1   4\n",
            "698   897471   4   8   8   5   4   5.0  10   4   1   4\n",
            "\n",
            "[699 rows x 11 columns]\n"
          ],
          "name": "stdout"
        }
      ]
    },
    {
      "cell_type": "markdown",
      "metadata": {
        "id": "_j38MuYXjpKD"
      },
      "source": [
        "# Convert to Numpy and Verify"
      ]
    },
    {
      "cell_type": "code",
      "metadata": {
        "id": "EkeXl9kSdkDD"
      },
      "source": [
        "values = df.values\n",
        "X = values[:, 1:10].astype(np.float32)\n",
        "X[np.isnan(X)] = 0 # Replace nan values with 0, so they will have no influence over the neural network\n",
        "\n",
        "Y = values[:, 10].astype(np.float32)\n",
        "#One hot encoding\n",
        "Y[Y == 4] = 1\n",
        "Y[Y == 2] = 0"
      ],
      "execution_count": null,
      "outputs": []
    },
    {
      "cell_type": "code",
      "metadata": {
        "id": "PUGMIodfX9tA",
        "outputId": "5dd3104a-8d5f-4bee-df9b-dd6844bacf53",
        "colab": {
          "base_uri": "https://localhost:8080/",
          "height": 87
        }
      },
      "source": [
        "print(f\"X.shape = {X.shape}\\nY.shape = {Y.shape}\")\n",
        "print(f\"X[0, :] = {X[0, :]}\\nY[0] = {Y[0]}\")"
      ],
      "execution_count": null,
      "outputs": [
        {
          "output_type": "stream",
          "text": [
            "X.shape = (699, 9)\n",
            "Y.shape = (699,)\n",
            "X[0, :] = [5. 1. 1. 1. 2. 1. 3. 1. 1.]\n",
            "Y[0] = 0.0\n"
          ],
          "name": "stdout"
        }
      ]
    },
    {
      "cell_type": "markdown",
      "metadata": {
        "id": "SeZ7dnAEYkap"
      },
      "source": [
        "# Data Exploration"
      ]
    },
    {
      "cell_type": "code",
      "metadata": {
        "id": "W-dYvVBVbabA",
        "outputId": "14b78f39-e069-40ab-96e1-ec1d295e669c",
        "colab": {
          "base_uri": "https://localhost:8080/",
          "height": 264
        }
      },
      "source": [
        "def count_benign(annotations):\n",
        "  return np.count_nonzero(annotations == 0)\n",
        "def count_malignent(annotations):\n",
        "  return np.count_nonzero(annotations == 1)\n",
        "\n",
        "def generate_pie_chart_annotations(annotations):\n",
        "  num_benign = count_benign(annotations)\n",
        "  num_malignent = count_malignent(annotations)\n",
        "\n",
        "  plt.pie([num_benign, num_malignent], labels=[\"Benign\", \"Malignant\"], autopct='%.2f')\n",
        "  plt.title(\"Data Split by Class\")\n",
        "  plt.show()\n",
        "\n",
        "generate_pie_chart_annotations(Y)"
      ],
      "execution_count": null,
      "outputs": [
        {
          "output_type": "display_data",
          "data": {
            "image/png": "[encoded data removed]",
            "text/plain": [
              "<Figure size 432x288 with 1 Axes>"
            ]
          },
          "metadata": {
            "tags": []
          }
        }
      ]
    },
    {
      "cell_type": "markdown",
      "metadata": {
        "id": "X0yIa45BbwER"
      },
      "source": [
        "Surprisingly, the data is reasonably balanced. I had suspected that the number of malignant data points would be very less compared to the number of benign data points since malignant data points are relatively rare."
      ]
    },
    {
      "cell_type": "code",
      "metadata": {
        "id": "NVqB-oxFbQfG"
      },
      "source": [
        "from sklearn.decomposition import PCA"
      ],
      "execution_count": null,
      "outputs": []
    },
    {
      "cell_type": "code",
      "metadata": {
        "id": "MQDIq2Frd2GZ",
        "outputId": "f3fc73d2-3c9f-4c55-d029-d82618d1d1e3",
        "colab": {
          "base_uri": "https://localhost:8080/",
          "height": 295
        }
      },
      "source": [
        "def gen_pca_scatter_plot(input, label):\n",
        "  pca_obj = PCA(n_components=2)\n",
        "  pca_obj.fit(input)\n",
        "  input_dim_2 = pca_obj.transform(input)\n",
        "  \n",
        "  plt.title(\"2D scatter plot of data\")\n",
        "  x = input_dim_2[Y == 0]\n",
        "  plt.scatter(x[:, 0], x[:, 1], label=\"Benign\")\n",
        "  x = input_dim_2[Y == 1]\n",
        "  plt.scatter(x[:, 0], x[:, 1], label=\"Malignant\")\n",
        "\n",
        "  plt.xlabel(\"1st PC direction\")\n",
        "  plt.ylabel(\"2nd PC direction\")\n",
        "  plt.show()\n",
        "\n",
        "gen_pca_scatter_plot(X, Y)"
      ],
      "execution_count": null,
      "outputs": [
        {
          "output_type": "display_data",
          "data": {
            "image/png": "[encoded data removed]",
            "text/plain": [
              "<Figure size 432x288 with 1 Axes>"
            ]
          },
          "metadata": {
            "tags": [],
            "needs_background": "light"
          }
        }
      ]
    },
    {
      "cell_type": "markdown",
      "metadata": {
        "id": "llmvFdpEq4qe"
      },
      "source": [
        "Note the significant correlation between the annotations and first principal direction"
      ]
    },
    {
      "cell_type": "markdown",
      "metadata": {
        "id": "HPgQl9BmxlZk"
      },
      "source": [
        ""
      ]
    },
    {
      "cell_type": "markdown",
      "metadata": {
        "id": "S1_zluQzszAM"
      },
      "source": [
        "# Create dataloader"
      ]
    },
    {
      "cell_type": "code",
      "metadata": {
        "id": "ox-_06ErhPb5"
      },
      "source": [
        "from torch.utils.data import Dataset, DataLoader\n",
        "\n",
        "class TinyDataset(Dataset):\n",
        "  def __init__(self, X, Y, indices):\n",
        "    self.X = X[indices]\n",
        "    self.Y = Y[indices]\n",
        "\n",
        "  def __len__(self):\n",
        "    return len(self.Y)\n",
        "    \n",
        "  def __getitem__(self, idx):\n",
        "    return torch.from_numpy(self.X[idx]), torch.from_numpy(np.asarray(self.Y[idx]))"
      ],
      "execution_count": null,
      "outputs": []
    },
    {
      "cell_type": "code",
      "metadata": {
        "id": "UqxXlKANtujg"
      },
      "source": [
        "num_data_points = len(Y)\n",
        "num_val_test = num_data_points//7\n",
        "\n",
        "shuffle_indices = np.arange(num_data_points)\n",
        "test_indices = shuffle_indices[-num_val_test:]\n",
        "val_indices = shuffle_indices[-2*num_val_test:-num_val_test]\n",
        "train_indices = shuffle_indices[:-2*num_val_test]\n",
        "\n",
        "train_loader = DataLoader( TinyDataset(X, Y, train_indices), shuffle=True, batch_size=32)\n",
        "val_loader = DataLoader( TinyDataset(X, Y, val_indices), shuffle=False, batch_size=256)\n",
        "test_loader = DataLoader( TinyDataset(X, Y, test_indices), shuffle=False, batch_size=256)\n"
      ],
      "execution_count": null,
      "outputs": []
    },
    {
      "cell_type": "markdown",
      "metadata": {
        "id": "rZSl94Ut0WNn"
      },
      "source": [
        "# Create Model"
      ]
    },
    {
      "cell_type": "code",
      "metadata": {
        "id": "dWb35jSt0Y61",
        "outputId": "47e88072-90d1-4d8e-fcd9-c4b26dce5ede",
        "colab": {
          "base_uri": "https://localhost:8080/",
          "height": 35
        }
      },
      "source": [
        "device = torch.device(\"cuda:0\" if torch.cuda.is_available() else \"cpu\")\n",
        "print(f\"device = {device}\")\n",
        "\n",
        "model = nn.Sequential(\n",
        "    nn.Linear(9, 5),\n",
        "    nn.ReLU(),\n",
        "    nn.Dropout(p=0.1),\n",
        "    nn.Linear(5, 5),\n",
        "    nn.ReLU(),\n",
        "    nn.Dropout(p=0.1),\n",
        "    nn.Linear(5, 1),\n",
        "    nn.Sigmoid()\n",
        ")\n",
        "model.to(device)\n",
        "optimizer = optim.SGD(model.parameters(), lr=0.01, momentum=0.9, weight_decay=1e-10)\n",
        "scheduler = optim.lr_scheduler.StepLR(optimizer, step_size=300, gamma=0.1)"
      ],
      "execution_count": null,
      "outputs": [
        {
          "output_type": "stream",
          "text": [
            "device = cuda:0\n"
          ],
          "name": "stdout"
        }
      ]
    },
    {
      "cell_type": "markdown",
      "metadata": {
        "id": "_7esZZVJAvox"
      },
      "source": [
        "# Train and Validate Model"
      ]
    },
    {
      "cell_type": "code",
      "metadata": {
        "id": "mF8yeRx53plY"
      },
      "source": [
        "def train_loop(model_train, loader, opt, device):\n",
        "  model_train.train()\n",
        "  total_loss = 0.0\n",
        "  for data, target in loader:\n",
        "    data, target = data.to(device), target.to(device)\n",
        "\n",
        "    opt.zero_grad()\n",
        "    output = model_train(data)\n",
        "    output = output.squeeze(1)\n",
        "    loss = F.binary_cross_entropy(output, target)\n",
        "    loss.backward()\n",
        "    optimizer.step()\n",
        "\n",
        "    total_loss += loss.item()*len(data)\n",
        "  return total_loss/len(loader.dataset)\n",
        "\n",
        "def val_loop(model_val, loader, device):\n",
        "  model_val.eval()\n",
        "  total_loss = 0.0\n",
        "  for data, target in loader:\n",
        "    data, target = data.to(device), target.to(device)\n",
        "\n",
        "    with torch.no_grad():\n",
        "      output = model_val(data)\n",
        "      output = output.squeeze(1)\n",
        "      loss = F.binary_cross_entropy(output, target)\n",
        "    total_loss += loss.item()*len(data)\n",
        "\n",
        "  return total_loss/len(loader.dataset)\n",
        "\n",
        "def test_loop(model_test, loader, device):\n",
        "  model_test.eval()\n",
        "  total_correct = 0\n",
        "  for data, target in loader:\n",
        "    data, target = data.to(device), target.to(device)\n",
        "\n",
        "    with torch.no_grad():\n",
        "      output = model_test(data)\n",
        "    output = output.squeeze(1)\n",
        "    pred = torch.round(output)\n",
        "    total_correct += pred.eq(target).sum().item()\n",
        "\n",
        "  return 100*total_correct/len(loader.dataset)\n"
      ],
      "execution_count": null,
      "outputs": []
    },
    {
      "cell_type": "code",
      "metadata": {
        "id": "l-kXPDoi8s3n"
      },
      "source": [
        "def plot_losses(train, val, stopped_epoch):\n",
        "  N = len(train)\n",
        "  X = np.arange(N)\n",
        "\n",
        "  plt.title(\"Train/Val Loss over epochs\")\n",
        "  plt.xlabel(\"Epoch\")\n",
        "  plt.ylabel(\"Loss\")\n",
        "\n",
        "  plt.xscale(\"log\")\n",
        "\n",
        "  plt.plot(X, train, label = \"Training Loss\")\n",
        "  plt.plot(X, val, label = \"Validation Loss\")\n",
        "\n",
        "  plt.axvline(x=stopped_epoch, ymin=0, ymax=1, color=\"black\")\n",
        "\n",
        "  plt.legend()\n",
        "\n",
        "  plt.show()\n",
        "\n",
        "import copy\n",
        "\n",
        "def train_and_evaluate_model(model, opt, sch, device, num_epochs):\n",
        "  train_losses = []\n",
        "  val_losses = []\n",
        "\n",
        "  best_val_loss = float(\"inf\")\n",
        "  best_epoch = -1\n",
        "  best_state = None\n",
        "\n",
        "  for epoch in range(num_epochs):\n",
        "    train_loss = train_loop(model, train_loader, optimizer, device)\n",
        "    val_loss = val_loop(model, val_loader, device)\n",
        "  \n",
        "    sch.step()\n",
        "\n",
        "    if val_loss < best_val_loss:\n",
        "      best_val_loss = val_loss\n",
        "      best_epoch = epoch\n",
        "      best_state = copy.deepcopy(model.state_dict())\n",
        "\n",
        "    train_losses.append(train_loss)\n",
        "    val_losses.append(val_loss)\n",
        "\n",
        "  model.load_state_dict(best_state)\n",
        "  return train_losses, val_losses, best_epoch"
      ],
      "execution_count": null,
      "outputs": []
    },
    {
      "cell_type": "code",
      "metadata": {
        "id": "maQ6rk_5ACPa"
      },
      "source": [
        "train_losses, val_losses, stopped_epoch = train_and_evaluate_model(model, optimizer, scheduler, device, 3000)"
      ],
      "execution_count": null,
      "outputs": []
    },
    {
      "cell_type": "code",
      "metadata": {
        "id": "2w68Dd8e85EQ",
        "outputId": "93bcff97-f012-4c0d-b950-750f5dcc68d5",
        "colab": {
          "base_uri": "https://localhost:8080/",
          "height": 386
        }
      },
      "source": [
        "plot_losses(train_losses, val_losses, stopped_epoch)\n",
        "print(f\"Final Train Loss = {train_losses[-1]}\")\n",
        "print(f\"Final Validation Loss = {val_losses[-1]}\")\n",
        "print(f\"Early Stopped Epoch = {stopped_epoch}\")\n",
        "print(f\"Early Stopped Train Loss = {train_losses[stopped_epoch]}\")\n",
        "print(f\"Early Stopped Loss = {val_losses[stopped_epoch]}\")"
      ],
      "execution_count": null,
      "outputs": [
        {
          "output_type": "display_data",
          "data": {
            "image/png": "[encoded data removed]",
            "text/plain": [
              "<Figure size 432x288 with 1 Axes>"
            ]
          },
          "metadata": {
            "tags": [],
            "needs_background": "light"
          }
        },
        {
          "output_type": "stream",
          "text": [
            "Final Train Loss = 0.0988597877308756\n",
            "Final Validation Loss = 0.04373371601104736\n",
            "Early Stopped Epoch = 268\n",
            "Early Stopped Train Loss = 0.16787801400392116\n",
            "Early Stopped Loss = 0.02332250215113163\n"
          ],
          "name": "stdout"
        }
      ]
    },
    {
      "cell_type": "code",
      "metadata": {
        "id": "19w_RGYSA5bt",
        "outputId": "635aca70-0a8f-462a-b445-d5b1f9e846ce",
        "colab": {
          "base_uri": "https://localhost:8080/",
          "height": 35
        }
      },
      "source": [
        "final_acc = test_loop(model, test_loader, device)\n",
        "print(f\"Final Test Accuracy = {final_acc}%\")"
      ],
      "execution_count": null,
      "outputs": [
        {
          "output_type": "stream",
          "text": [
            "Final Test Accuracy = 100.0%\n"
          ],
          "name": "stdout"
        }
      ]
    },
    {
      "cell_type": "code",
      "metadata": {
        "id": "bQ0_kJPfCm-s"
      },
      "source": [
        "torch.save(final_model.state_dict(), \"model.pth\")"
      ],
      "execution_count": null,
      "outputs": []
    },
    {
      "cell_type": "code",
      "metadata": {
        "id": "HvHj_1B_FU3l"
      },
      "source": [
        ""
      ],
      "execution_count": null,
      "outputs": []
    }
  ]
}